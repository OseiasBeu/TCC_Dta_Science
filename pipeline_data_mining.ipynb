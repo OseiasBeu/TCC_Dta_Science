{
  "nbformat": 4,
  "nbformat_minor": 0,
  "metadata": {
    "colab": {
      "name": "pipeline_data_mining.ipynb",
      "provenance": [],
      "authorship_tag": "ABX9TyNRwdFeZtyW0PMcsclEGwfy",
      "include_colab_link": true
    },
    "kernelspec": {
      "name": "python3",
      "display_name": "Python 3"
    },
    "language_info": {
      "name": "python"
    }
  },
  "cells": [
    {
      "cell_type": "markdown",
      "metadata": {
        "id": "view-in-github",
        "colab_type": "text"
      },
      "source": [
        "<a href=\"https://colab.research.google.com/github/OseiasBeu/TCC_Dta_Science/blob/main/pipeline_data_mining.ipynb\" target=\"_parent\"><img src=\"https://colab.research.google.com/assets/colab-badge.svg\" alt=\"Open In Colab\"/></a>"
      ]
    },
    {
      "cell_type": "markdown",
      "metadata": {
        "id": "j3bKils3q7Wc"
      },
      "source": [
        "## Importação das bibliotecas"
      ]
    },
    {
      "cell_type": "code",
      "metadata": {
        "id": "e6qhcB4vmhKr"
      },
      "source": [
        "import nltk\n",
        "import re\n",
        "from nltk.corpus import wordnet\n",
        "from nltk import FreqDist\n",
        "from nltk.corpus import brown\n",
        "import pandas as pd\n",
        "\n",
        "%matplotlib inline\n",
        "import numpy as np\n",
        "import matplotlib.pyplot as plt\n",
        "from textblob import TextBlob\n",
        "\n",
        "import logging\n",
        "logging.basicConfig(filename='example.log', filemode='w', level=logging.DEBUG)"
      ],
      "execution_count": 176,
      "outputs": []
    },
    {
      "cell_type": "markdown",
      "metadata": {
        "id": "ixoqkYlqqtZJ"
      },
      "source": [
        "## Entrada de dados! "
      ]
    },
    {
      "cell_type": "markdown",
      "metadata": {
        "id": "_F16flFurO4z"
      },
      "source": [
        "É nessa parte do script por onde as API's serão consultadas e as bases serão lidas."
      ]
    },
    {
      "cell_type": "code",
      "metadata": {
        "id": "HkjKGD8zpneb"
      },
      "source": [
        "def load_dataframe(link):\n",
        "  try:\n",
        "    logger.info('Efetuando o carregamento do datafreme.')\n",
        "    file = link\n",
        "    dataBase = pd.read_csv(file, sep=';', header=None)\n",
        "    df = pd.DataFrame(dataBase)\n",
        "    logger.info('Carregamento efetuado com sucesso!')\n",
        "    return df\n",
        "  except Exception as e:\n",
        "    logger.error(f'Houve um erro no carregamento do dataset: {e}')"
      ],
      "execution_count": 158,
      "outputs": []
    },
    {
      "cell_type": "markdown",
      "metadata": {
        "id": "erZPdAU53DkZ"
      },
      "source": [
        "## Verificando a frequência das palavras"
      ]
    },
    {
      "cell_type": "code",
      "metadata": {
        "id": "ku_rUivS21jr"
      },
      "source": [
        "def array_to_word_list(lista_de_frases):\n",
        "  logger.info('Convertendo lista de frases em lista de palavras.')\n",
        "  try:\n",
        "    lista_de_palavras = []\n",
        "    for x in lista_de_frases:\n",
        "      lista_de_palavras += x.split()\n",
        "    logger.info('Lista de palavras gerada com sucesso!')\n",
        "    return lista_de_palavras\n",
        "  except Exception as e:\n",
        "    logger.error(f'Houve um erro na conversão:{e}')"
      ],
      "execution_count": 159,
      "outputs": []
    },
    {
      "cell_type": "code",
      "metadata": {
        "id": "mOaT5NuV3WMM"
      },
      "source": [
        "def freq_word(array_lista_de_palavras):\n",
        "  logger.info(\"Gerando frequência de palavras.\")\n",
        "  try:\n",
        "    frequencia_de_palavras = FreqDist(lista_de_palavras)\n",
        "    logger.info(\"Frequência de palavras gerada com sucesso!\")\n",
        "    return frequencia_de_palavras\n",
        "  except Exception as e:\n",
        "    logger.error(f'Houve um erro na geração da frequência das palavras: {e}')"
      ],
      "execution_count": 160,
      "outputs": []
    },
    {
      "cell_type": "code",
      "metadata": {
        "id": "7i9KoOhFRg5A"
      },
      "source": [
        "def plot_freq_word(frequencia_de_palavras):\n",
        "  logger.info(\"Gerando gráfico de frequência de palavras\")\n",
        "  try:\n",
        "    palavras = frequencia_de_palavras.keys()\n",
        "    y_pos = np.arange(len(palavras))\n",
        "    contagem = frequencia_de_palavras.values()\n",
        "    plt.bar(y_pos, contagem, align='center', alpha=0.5)\n",
        "    plt.xticks(y_pos, palavras)\n",
        "    plt.ylabel('Frequencia')\n",
        "    plt.title('Frequencia das palavras na frase')\n",
        "    logger.info('Gráfico Gerado com sucesso!')\n",
        "    plt.show()\n",
        "  except Exception as e:\n",
        "    logger.error(f\"Houve um erro na plotagem da frequência das palavras: {e}\")"
      ],
      "execution_count": 161,
      "outputs": []
    },
    {
      "cell_type": "markdown",
      "metadata": {
        "id": "5fsM0hA75Tgy"
      },
      "source": [
        "## Removendo a stop_words"
      ]
    },
    {
      "cell_type": "markdown",
      "metadata": {
        "id": "KxKpGyG5aHyd"
      },
      "source": [
        "* Palavras ou termos que são muito usadas mas normalmente não tem nenhum significado como artigos: 'é','o','a'\n",
        "* Técnica usada para pré-processamento de dados"
      ]
    },
    {
      "cell_type": "code",
      "metadata": {
        "id": "rgAejsEray-W"
      },
      "source": [
        "def RemoveStopWords(instancia):\n",
        "  logger.info('Removendo Stop Words')\n",
        "  try:\n",
        "    stopwords = set(nltk.corpus.stopwords.words('portuguese'))\n",
        "    palavras = [i.lower() for i in instancia if not i in stopwords]\n",
        "    logger.info(\"Stop Wrods removidas com sucesso!\")\n",
        "    return (\" \".join(palavras))\n",
        "  except Exception as e:\n",
        "    logger.error(f\"Houve um erro na remoção das stop words: {e}\")"
      ],
      "execution_count": 162,
      "outputs": []
    },
    {
      "cell_type": "markdown",
      "metadata": {
        "id": "xkMX7aNXqr5U"
      },
      "source": [
        "## Analise de sentimento"
      ]
    },
    {
      "cell_type": "code",
      "metadata": {
        "id": "iwBY02M7qt7s"
      },
      "source": [
        "def phrases_polarity(array_lines):\n",
        "  logger.info('Efetuando a análise de sentimento.')\n",
        "  try:\n",
        "    dict = {}\n",
        "    key = 0\n",
        "    for line in array_lines:\n",
        "      frase = TextBlob(line)\n",
        "      frase2 = TextBlob.translate(frase)\n",
        "      dict[key] = {'frase_original': frase, 'frase_traduzida': frase2, 'polaridade':frase2.sentiment[0],'subjetividade':frase2.sentiment[1]}\n",
        "      key+=1\n",
        "      logger.info('Dicionario com polaridades gerado com sucesso!')\n",
        "      # print(f'Sentimento:-> Polaridade: {frase2.sentiment[0]} Subjetividade: {frase2.sentiment[1]} <==> Frase Original: {frase} <==> Frase traduzida: {frase2}')\n",
        "    return dict\n",
        "  except Exception as e:\n",
        "    logger.error(f'Houve um erro na análise de sentimento: {e}')"
      ],
      "execution_count": 163,
      "outputs": []
    },
    {
      "cell_type": "markdown",
      "metadata": {
        "id": "VvnwU9HcnIyL"
      },
      "source": [
        "## PIPELINE"
      ]
    },
    {
      "cell_type": "code",
      "metadata": {
        "colab": {
          "base_uri": "https://localhost:8080/",
          "height": 1000
        },
        "id": "4djsmnGqjXiO",
        "outputId": "b3c09857-586e-4afb-b828-fb3000df4e96"
      },
      "source": [
        "df = load_dataframe('https://raw.githubusercontent.com/OseiasBeu/TCC_Dta_Science/main/datasets/news.csv')\n",
        "lista_de_frases = df[0].to_list()\n",
        "lista_de_palavras = array_to_word_list(lista_de_frases)\n",
        "lista_de_palavras_s_stop_words = RemoveStopWords(lista_de_palavras)\n",
        "frequencia_de_palavras = freq_word(lista_de_palavras_s_stop_words.split())\n",
        "plot_freq_word(frequencia_de_palavras)"
      ],
      "execution_count": 164,
      "outputs": [
        {
          "output_type": "stream",
          "text": [
            "2021-07-22 01:56:09,499 - Log de execução: - INFO - Efetuando o carregamento do datafreme.\n",
            "2021-07-22 01:56:09,499 - Log de execução: - INFO - Efetuando o carregamento do datafreme.\n",
            "2021-07-22 01:56:09,499 - Log de execução: - INFO - Efetuando o carregamento do datafreme.\n",
            "2021-07-22 01:56:09,499 - Log de execução: - INFO - Efetuando o carregamento do datafreme.\n",
            "INFO:Log de execução::Efetuando o carregamento do datafreme.\n",
            "2021-07-22 01:56:09,631 - Log de execução: - INFO - Carregamento efetuado com sucesso!\n",
            "2021-07-22 01:56:09,631 - Log de execução: - INFO - Carregamento efetuado com sucesso!\n",
            "2021-07-22 01:56:09,631 - Log de execução: - INFO - Carregamento efetuado com sucesso!\n",
            "2021-07-22 01:56:09,631 - Log de execução: - INFO - Carregamento efetuado com sucesso!\n",
            "INFO:Log de execução::Carregamento efetuado com sucesso!\n",
            "2021-07-22 01:56:09,640 - Log de execução: - INFO - Convertendo lista de frases em lista de palavras.\n",
            "2021-07-22 01:56:09,640 - Log de execução: - INFO - Convertendo lista de frases em lista de palavras.\n",
            "2021-07-22 01:56:09,640 - Log de execução: - INFO - Convertendo lista de frases em lista de palavras.\n",
            "2021-07-22 01:56:09,640 - Log de execução: - INFO - Convertendo lista de frases em lista de palavras.\n",
            "INFO:Log de execução::Convertendo lista de frases em lista de palavras.\n",
            "2021-07-22 01:56:09,652 - Log de execução: - INFO - Lista de palavras gerada com sucesso!\n",
            "2021-07-22 01:56:09,652 - Log de execução: - INFO - Lista de palavras gerada com sucesso!\n",
            "2021-07-22 01:56:09,652 - Log de execução: - INFO - Lista de palavras gerada com sucesso!\n",
            "2021-07-22 01:56:09,652 - Log de execução: - INFO - Lista de palavras gerada com sucesso!\n",
            "INFO:Log de execução::Lista de palavras gerada com sucesso!\n",
            "2021-07-22 01:56:09,666 - Log de execução: - INFO - Removendo Stop Words\n",
            "2021-07-22 01:56:09,666 - Log de execução: - INFO - Removendo Stop Words\n",
            "2021-07-22 01:56:09,666 - Log de execução: - INFO - Removendo Stop Words\n",
            "2021-07-22 01:56:09,666 - Log de execução: - INFO - Removendo Stop Words\n",
            "INFO:Log de execução::Removendo Stop Words\n",
            "2021-07-22 01:56:09,676 - Log de execução: - INFO - Stop Wrods removidas com sucesso!\n",
            "2021-07-22 01:56:09,676 - Log de execução: - INFO - Stop Wrods removidas com sucesso!\n",
            "2021-07-22 01:56:09,676 - Log de execução: - INFO - Stop Wrods removidas com sucesso!\n",
            "2021-07-22 01:56:09,676 - Log de execução: - INFO - Stop Wrods removidas com sucesso!\n",
            "INFO:Log de execução::Stop Wrods removidas com sucesso!\n",
            "2021-07-22 01:56:09,683 - Log de execução: - INFO - Gerando frequência de palavras.\n",
            "2021-07-22 01:56:09,683 - Log de execução: - INFO - Gerando frequência de palavras.\n",
            "2021-07-22 01:56:09,683 - Log de execução: - INFO - Gerando frequência de palavras.\n",
            "2021-07-22 01:56:09,683 - Log de execução: - INFO - Gerando frequência de palavras.\n",
            "INFO:Log de execução::Gerando frequência de palavras.\n",
            "2021-07-22 01:56:09,690 - Log de execução: - INFO - Frequência de palavras gerada com sucesso!\n",
            "2021-07-22 01:56:09,690 - Log de execução: - INFO - Frequência de palavras gerada com sucesso!\n",
            "2021-07-22 01:56:09,690 - Log de execução: - INFO - Frequência de palavras gerada com sucesso!\n",
            "2021-07-22 01:56:09,690 - Log de execução: - INFO - Frequência de palavras gerada com sucesso!\n",
            "INFO:Log de execução::Frequência de palavras gerada com sucesso!\n",
            "2021-07-22 01:56:09,696 - Log de execução: - INFO - Gerando gráfico de frequência de palavras\n",
            "2021-07-22 01:56:09,696 - Log de execução: - INFO - Gerando gráfico de frequência de palavras\n",
            "2021-07-22 01:56:09,696 - Log de execução: - INFO - Gerando gráfico de frequência de palavras\n",
            "2021-07-22 01:56:09,696 - Log de execução: - INFO - Gerando gráfico de frequência de palavras\n",
            "INFO:Log de execução::Gerando gráfico de frequência de palavras\n",
            "2021-07-22 01:56:09,966 - Log de execução: - INFO - Gráfico Gerado com sucesso!\n",
            "2021-07-22 01:56:09,966 - Log de execução: - INFO - Gráfico Gerado com sucesso!\n",
            "2021-07-22 01:56:09,966 - Log de execução: - INFO - Gráfico Gerado com sucesso!\n",
            "2021-07-22 01:56:09,966 - Log de execução: - INFO - Gráfico Gerado com sucesso!\n",
            "INFO:Log de execução::Gráfico Gerado com sucesso!\n"
          ],
          "name": "stderr"
        },
        {
          "output_type": "display_data",
          "data": {
            "image/png": "[encoded data removed]",
            "text/plain": [
              "<Figure size 432x288 with 1 Axes>"
            ]
          },
          "metadata": {
            "tags": [],
            "needs_background": "light"
          }
        }
      ]
    },
    {
      "cell_type": "code",
      "metadata": {
        "colab": {
          "base_uri": "https://localhost:8080/"
        },
        "id": "7Eq755OD3EOi",
        "outputId": "e33c217d-9baf-48b7-bc5c-9b5db59313f5"
      },
      "source": [
        "frases_com_sentimento = phrases_polarity(df[0])"
      ],
      "execution_count": 166,
      "outputs": [
        {
          "output_type": "stream",
          "text": [
            "2021-07-22 01:57:20,035 - Log de execução: - INFO - Efetuando a análise de sentimento.\n",
            "2021-07-22 01:57:20,035 - Log de execução: - INFO - Efetuando a análise de sentimento.\n",
            "2021-07-22 01:57:20,035 - Log de execução: - INFO - Efetuando a análise de sentimento.\n",
            "2021-07-22 01:57:20,035 - Log de execução: - INFO - Efetuando a análise de sentimento.\n",
            "INFO:Log de execução::Efetuando a análise de sentimento.\n",
            "2021-07-22 01:57:20,060 - Log de execução: - INFO - Dicionario com polaridades gerado com sucesso!\n",
            "2021-07-22 01:57:20,060 - Log de execução: - INFO - Dicionario com polaridades gerado com sucesso!\n",
            "2021-07-22 01:57:20,060 - Log de execução: - INFO - Dicionario com polaridades gerado com sucesso!\n",
            "2021-07-22 01:57:20,060 - Log de execução: - INFO - Dicionario com polaridades gerado com sucesso!\n",
            "INFO:Log de execução::Dicionario com polaridades gerado com sucesso!\n",
            "2021-07-22 01:57:20,085 - Log de execução: - INFO - Dicionario com polaridades gerado com sucesso!\n",
            "2021-07-22 01:57:20,085 - Log de execução: - INFO - Dicionario com polaridades gerado com sucesso!\n",
            "2021-07-22 01:57:20,085 - Log de execução: - INFO - Dicionario com polaridades gerado com sucesso!\n",
            "2021-07-22 01:57:20,085 - Log de execução: - INFO - Dicionario com polaridades gerado com sucesso!\n",
            "INFO:Log de execução::Dicionario com polaridades gerado com sucesso!\n",
            "2021-07-22 01:57:20,105 - Log de execução: - INFO - Dicionario com polaridades gerado com sucesso!\n",
            "2021-07-22 01:57:20,105 - Log de execução: - INFO - Dicionario com polaridades gerado com sucesso!\n",
            "2021-07-22 01:57:20,105 - Log de execução: - INFO - Dicionario com polaridades gerado com sucesso!\n",
            "2021-07-22 01:57:20,105 - Log de execução: - INFO - Dicionario com polaridades gerado com sucesso!\n",
            "INFO:Log de execução::Dicionario com polaridades gerado com sucesso!\n",
            "2021-07-22 01:57:20,123 - Log de execução: - INFO - Dicionario com polaridades gerado com sucesso!\n",
            "2021-07-22 01:57:20,123 - Log de execução: - INFO - Dicionario com polaridades gerado com sucesso!\n",
            "2021-07-22 01:57:20,123 - Log de execução: - INFO - Dicionario com polaridades gerado com sucesso!\n",
            "2021-07-22 01:57:20,123 - Log de execução: - INFO - Dicionario com polaridades gerado com sucesso!\n",
            "INFO:Log de execução::Dicionario com polaridades gerado com sucesso!\n",
            "2021-07-22 01:57:20,143 - Log de execução: - INFO - Dicionario com polaridades gerado com sucesso!\n",
            "2021-07-22 01:57:20,143 - Log de execução: - INFO - Dicionario com polaridades gerado com sucesso!\n",
            "2021-07-22 01:57:20,143 - Log de execução: - INFO - Dicionario com polaridades gerado com sucesso!\n",
            "2021-07-22 01:57:20,143 - Log de execução: - INFO - Dicionario com polaridades gerado com sucesso!\n",
            "INFO:Log de execução::Dicionario com polaridades gerado com sucesso!\n",
            "2021-07-22 01:57:20,164 - Log de execução: - INFO - Dicionario com polaridades gerado com sucesso!\n",
            "2021-07-22 01:57:20,164 - Log de execução: - INFO - Dicionario com polaridades gerado com sucesso!\n",
            "2021-07-22 01:57:20,164 - Log de execução: - INFO - Dicionario com polaridades gerado com sucesso!\n",
            "2021-07-22 01:57:20,164 - Log de execução: - INFO - Dicionario com polaridades gerado com sucesso!\n",
            "INFO:Log de execução::Dicionario com polaridades gerado com sucesso!\n",
            "2021-07-22 01:57:20,185 - Log de execução: - INFO - Dicionario com polaridades gerado com sucesso!\n",
            "2021-07-22 01:57:20,185 - Log de execução: - INFO - Dicionario com polaridades gerado com sucesso!\n",
            "2021-07-22 01:57:20,185 - Log de execução: - INFO - Dicionario com polaridades gerado com sucesso!\n",
            "2021-07-22 01:57:20,185 - Log de execução: - INFO - Dicionario com polaridades gerado com sucesso!\n",
            "INFO:Log de execução::Dicionario com polaridades gerado com sucesso!\n",
            "2021-07-22 01:57:20,211 - Log de execução: - INFO - Dicionario com polaridades gerado com sucesso!\n",
            "2021-07-22 01:57:20,211 - Log de execução: - INFO - Dicionario com polaridades gerado com sucesso!\n",
            "2021-07-22 01:57:20,211 - Log de execução: - INFO - Dicionario com polaridades gerado com sucesso!\n",
            "2021-07-22 01:57:20,211 - Log de execução: - INFO - Dicionario com polaridades gerado com sucesso!\n",
            "INFO:Log de execução::Dicionario com polaridades gerado com sucesso!\n",
            "2021-07-22 01:57:20,229 - Log de execução: - INFO - Dicionario com polaridades gerado com sucesso!\n",
            "2021-07-22 01:57:20,229 - Log de execução: - INFO - Dicionario com polaridades gerado com sucesso!\n",
            "2021-07-22 01:57:20,229 - Log de execução: - INFO - Dicionario com polaridades gerado com sucesso!\n",
            "2021-07-22 01:57:20,229 - Log de execução: - INFO - Dicionario com polaridades gerado com sucesso!\n",
            "INFO:Log de execução::Dicionario com polaridades gerado com sucesso!\n",
            "2021-07-22 01:57:20,253 - Log de execução: - INFO - Dicionario com polaridades gerado com sucesso!\n",
            "2021-07-22 01:57:20,253 - Log de execução: - INFO - Dicionario com polaridades gerado com sucesso!\n",
            "2021-07-22 01:57:20,253 - Log de execução: - INFO - Dicionario com polaridades gerado com sucesso!\n",
            "2021-07-22 01:57:20,253 - Log de execução: - INFO - Dicionario com polaridades gerado com sucesso!\n",
            "INFO:Log de execução::Dicionario com polaridades gerado com sucesso!\n",
            "2021-07-22 01:57:20,276 - Log de execução: - INFO - Dicionario com polaridades gerado com sucesso!\n",
            "2021-07-22 01:57:20,276 - Log de execução: - INFO - Dicionario com polaridades gerado com sucesso!\n",
            "2021-07-22 01:57:20,276 - Log de execução: - INFO - Dicionario com polaridades gerado com sucesso!\n",
            "2021-07-22 01:57:20,276 - Log de execução: - INFO - Dicionario com polaridades gerado com sucesso!\n",
            "INFO:Log de execução::Dicionario com polaridades gerado com sucesso!\n",
            "2021-07-22 01:57:20,306 - Log de execução: - INFO - Dicionario com polaridades gerado com sucesso!\n",
            "2021-07-22 01:57:20,306 - Log de execução: - INFO - Dicionario com polaridades gerado com sucesso!\n",
            "2021-07-22 01:57:20,306 - Log de execução: - INFO - Dicionario com polaridades gerado com sucesso!\n",
            "2021-07-22 01:57:20,306 - Log de execução: - INFO - Dicionario com polaridades gerado com sucesso!\n",
            "INFO:Log de execução::Dicionario com polaridades gerado com sucesso!\n",
            "2021-07-22 01:57:20,327 - Log de execução: - INFO - Dicionario com polaridades gerado com sucesso!\n",
            "2021-07-22 01:57:20,327 - Log de execução: - INFO - Dicionario com polaridades gerado com sucesso!\n",
            "2021-07-22 01:57:20,327 - Log de execução: - INFO - Dicionario com polaridades gerado com sucesso!\n",
            "2021-07-22 01:57:20,327 - Log de execução: - INFO - Dicionario com polaridades gerado com sucesso!\n",
            "INFO:Log de execução::Dicionario com polaridades gerado com sucesso!\n",
            "2021-07-22 01:57:20,354 - Log de execução: - INFO - Dicionario com polaridades gerado com sucesso!\n",
            "2021-07-22 01:57:20,354 - Log de execução: - INFO - Dicionario com polaridades gerado com sucesso!\n",
            "2021-07-22 01:57:20,354 - Log de execução: - INFO - Dicionario com polaridades gerado com sucesso!\n",
            "2021-07-22 01:57:20,354 - Log de execução: - INFO - Dicionario com polaridades gerado com sucesso!\n",
            "INFO:Log de execução::Dicionario com polaridades gerado com sucesso!\n",
            "2021-07-22 01:57:20,381 - Log de execução: - INFO - Dicionario com polaridades gerado com sucesso!\n",
            "2021-07-22 01:57:20,381 - Log de execução: - INFO - Dicionario com polaridades gerado com sucesso!\n",
            "2021-07-22 01:57:20,381 - Log de execução: - INFO - Dicionario com polaridades gerado com sucesso!\n",
            "2021-07-22 01:57:20,381 - Log de execução: - INFO - Dicionario com polaridades gerado com sucesso!\n",
            "INFO:Log de execução::Dicionario com polaridades gerado com sucesso!\n"
          ],
          "name": "stderr"
        }
      ]
    },
    {
      "cell_type": "code",
      "metadata": {
        "colab": {
          "base_uri": "https://localhost:8080/"
        },
        "id": "ofm_1AAK6P6g",
        "outputId": "8d334490-312f-402e-ac39-18e958d22511"
      },
      "source": [
        "for i in frases_com_sentimento:\n",
        "  print(f'Frase: {frases_com_sentimento[i][\"frase_original\"]},\\n Polaridade:{frases_com_sentimento[i][\"polaridade\"]} | Subjetividade:{frases_com_sentimento[i][\"subjetividade\"]} \\n')"
      ],
      "execution_count": 177,
      "outputs": [
        {
          "output_type": "stream",
          "text": [
            "Frase: O capitão américa aparece sobrevoando São Paulo e diz que irá se candidatar,\n",
            " Polaridade:0.0 | Subjetividade:0.0 \n",
            "\n",
            "Frase: A polarização da população gera guerra civil,\n",
            " Polaridade:0.0 | Subjetividade:0.0 \n",
            "\n",
            "Frase: O Chaves se pronuncia e diz está indignado com tanta mentira.,\n",
            " Polaridade:-0.35 | Subjetividade:0.6 \n",
            "\n",
            "Frase: Morte do precidenciavel X por acidente de aviao,\n",
            " Polaridade:0.0 | Subjetividade:0.0 \n",
            "\n",
            "Frase: Monumento de Brasilia é atacado por manifestantes e eleicoes seráo canceladas,\n",
            " Polaridade:0.0 | Subjetividade:0.0 \n",
            "\n",
            "Frase: Novo presidente se diz confiante para governar o pais,\n",
            " Polaridade:0.3181818181818182 | Subjetividade:0.6439393939393939 \n",
            "\n",
            "Frase: Jair Bolsonaro sobe no ranking de rejeicao no nordeste,\n",
            " Polaridade:0.0 | Subjetividade:0.0 \n",
            "\n",
            "Frase: Haddad melhora nas pesquisas apos apoio de Lula,\n",
            " Polaridade:0.0 | Subjetividade:0.0 \n",
            "\n",
            "Frase: Disputa no segundo turno está cada vez mais acirrada entre os extremos,\n",
            " Polaridade:-0.1 | Subjetividade:0.2 \n",
            "\n",
            "Frase: Amoedo declara apoio ao PT,\n",
            " Polaridade:0.0 | Subjetividade:0.0 \n",
            "\n",
            "Frase: Manifestantes em Sao Paulo param avenida pedem intervençao militar!,\n",
            " Polaridade:-0.125 | Subjetividade:0.1 \n",
            "\n",
            "Frase: Padre Marcelo Rossi diz que irá se candidatar a presidencia,\n",
            " Polaridade:0.0 | Subjetividade:0.0 \n",
            "\n",
            "Frase: Ex presidente Lula consegue habeas Corpus e pode ser candidato,\n",
            " Polaridade:0.0 | Subjetividade:0.0 \n",
            "\n",
            "Frase: Presidente temmer declara apoio ao partido NOVO,\n",
            " Polaridade:0.13636363636363635 | Subjetividade:0.45454545454545453 \n",
            "\n",
            "Frase: Mourao declara que é contra o 13 salario e adiantamento de férias de funcionários,\n",
            " Polaridade:0.0 | Subjetividade:0.0 \n",
            "\n"
          ],
          "name": "stdout"
        }
      ]
    }
  ]
}